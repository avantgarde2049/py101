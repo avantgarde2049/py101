{
 "cells": [
  {
   "cell_type": "code",
   "execution_count": 2,
   "id": "08eeabd2",
   "metadata": {},
   "outputs": [],
   "source": [
    "#stores data in form of an object(javascript object notation)\n",
    "import json"
   ]
  },
  {
   "cell_type": "code",
   "execution_count": 3,
   "id": "d3de4023",
   "metadata": {},
   "outputs": [],
   "source": [
    "#takes input as a string\n",
    "json_data='{\"a\":1,\"b\":2,\"c\":3}'"
   ]
  },
  {
   "cell_type": "code",
   "execution_count": 4,
   "id": "e0c0a98b",
   "metadata": {},
   "outputs": [
    {
     "data": {
      "text/plain": [
       "{'a': 1, 'b': 2, 'c': 3}"
      ]
     },
     "execution_count": 4,
     "metadata": {},
     "output_type": "execute_result"
    }
   ],
   "source": [
    "x=json.loads(json_data)\n",
    "x\n"
   ]
  },
  {
   "cell_type": "code",
   "execution_count": 5,
   "id": "d463531b",
   "metadata": {},
   "outputs": [
    {
     "data": {
      "text/plain": [
       "3"
      ]
     },
     "execution_count": 5,
     "metadata": {},
     "output_type": "execute_result"
    }
   ],
   "source": [
    "x['c']"
   ]
  },
  {
   "cell_type": "code",
   "execution_count": 11,
   "id": "c8472845",
   "metadata": {},
   "outputs": [],
   "source": [
    "json_data2 = '''\n",
    "{\n",
    "  \"params\":\n",
    "  {\n",
    "    \"local_server\":\"True\",\n",
    "    \"local_uri\": \"mysql://root:@localhost/codingthunder\",\n",
    "    \"prod_uri\":\"mysql://root:@localhost/codingthunder\",\n",
    "    \"fb_url\":\"https://facebook.com/codingthunder\",\n",
    "    \"tw_url\":\"https://twitter.com/codingthunder\",\n",
    "    \"gh_url\": \"https://github.com/codingthunder\",\n",
    "    \"blog_name\": \"Coding Thunder\",\n",
    "    \"tag_line\": \"Heaven for programmers\",\n",
    "    \"gmail-user\":\"your-email@gmail.com\",\n",
    "    \"gmail-password\":\"gmailpassword\",\n",
    "    \"about_text\": \"Hi my name is harry and I create programming tutorials and I am a good boy\",\n",
    "    \"no_of_posts\": 3,\n",
    "    \"login_image\":\"login.svg\",\n",
    "    \"admin_user\":\"harry\",\n",
    "    \"admin_password\": \"subscribenow\"\n",
    "\n",
    "\n",
    "  }\n",
    "\n",
    "}\n",
    "'''"
   ]
  },
  {
   "cell_type": "code",
   "execution_count": 12,
   "id": "93141f15",
   "metadata": {},
   "outputs": [
    {
     "data": {
      "text/plain": [
       "{'params': {'local_server': 'True',\n",
       "  'local_uri': 'mysql://root:@localhost/codingthunder',\n",
       "  'prod_uri': 'mysql://root:@localhost/codingthunder',\n",
       "  'fb_url': 'https://facebook.com/codingthunder',\n",
       "  'tw_url': 'https://twitter.com/codingthunder',\n",
       "  'gh_url': 'https://github.com/codingthunder',\n",
       "  'blog_name': 'Coding Thunder',\n",
       "  'tag_line': 'Heaven for programmers',\n",
       "  'gmail-user': 'your-email@gmail.com',\n",
       "  'gmail-password': 'gmailpassword',\n",
       "  'about_text': 'Hi my name is harry and I create programming tutorials and I am a good boy',\n",
       "  'no_of_posts': 3,\n",
       "  'login_image': 'login.svg',\n",
       "  'admin_user': 'harry',\n",
       "  'admin_password': 'subscribenow'}}"
      ]
     },
     "execution_count": 12,
     "metadata": {},
     "output_type": "execute_result"
    }
   ],
   "source": [
    "y=json.loads(json_data2)\n",
    "y"
   ]
  },
  {
   "cell_type": "code",
   "execution_count": 13,
   "id": "613ff670",
   "metadata": {},
   "outputs": [
    {
     "data": {
      "text/plain": [
       "{'local_server': 'True',\n",
       " 'local_uri': 'mysql://root:@localhost/codingthunder',\n",
       " 'prod_uri': 'mysql://root:@localhost/codingthunder',\n",
       " 'fb_url': 'https://facebook.com/codingthunder',\n",
       " 'tw_url': 'https://twitter.com/codingthunder',\n",
       " 'gh_url': 'https://github.com/codingthunder',\n",
       " 'blog_name': 'Coding Thunder',\n",
       " 'tag_line': 'Heaven for programmers',\n",
       " 'gmail-user': 'your-email@gmail.com',\n",
       " 'gmail-password': 'gmailpassword',\n",
       " 'about_text': 'Hi my name is harry and I create programming tutorials and I am a good boy',\n",
       " 'no_of_posts': 3,\n",
       " 'login_image': 'login.svg',\n",
       " 'admin_user': 'harry',\n",
       " 'admin_password': 'subscribenow'}"
      ]
     },
     "execution_count": 13,
     "metadata": {},
     "output_type": "execute_result"
    }
   ],
   "source": [
    "y['params']"
   ]
  },
  {
   "cell_type": "code",
   "execution_count": 14,
   "id": "e676fa39",
   "metadata": {},
   "outputs": [],
   "source": [
    "#lets us write the contents to a json file\n",
    "with open('2.json','w') as f:\n",
    "    json.dump(y,f)"
   ]
  },
  {
   "cell_type": "code",
   "execution_count": null,
   "id": "69122a3d",
   "metadata": {},
   "outputs": [],
   "source": []
  }
 ],
 "metadata": {
  "kernelspec": {
   "display_name": "Python 3 (ipykernel)",
   "language": "python",
   "name": "python3"
  },
  "language_info": {
   "codemirror_mode": {
    "name": "ipython",
    "version": 3
   },
   "file_extension": ".py",
   "mimetype": "text/x-python",
   "name": "python",
   "nbconvert_exporter": "python",
   "pygments_lexer": "ipython3",
   "version": "3.9.13"
  }
 },
 "nbformat": 4,
 "nbformat_minor": 5
}
