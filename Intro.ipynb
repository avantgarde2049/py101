{
 "cells": [
  {
   "cell_type": "code",
   "execution_count": 2,
   "id": "b67f4e9e",
   "metadata": {},
   "outputs": [
    {
     "data": {
      "text/plain": [
       "'C:\\\\Users\\\\sagni'"
      ]
     },
     "execution_count": 2,
     "metadata": {},
     "output_type": "execute_result"
    }
   ],
   "source": [
    "import os\n",
    "os.getcwd()"
   ]
  },
  {
   "cell_type": "code",
   "execution_count": 3,
   "id": "ef206e2d",
   "metadata": {},
   "outputs": [
    {
     "name": "stdout",
     "output_type": "stream",
     "text": [
      "Its data time!\n"
     ]
    }
   ],
   "source": [
    "print (\"Its data time!\")"
   ]
  },
  {
   "cell_type": "code",
   "execution_count": 4,
   "id": "973d100f",
   "metadata": {},
   "outputs": [
    {
     "data": {
      "text/plain": [
       "'hey there'"
      ]
     },
     "execution_count": 4,
     "metadata": {},
     "output_type": "execute_result"
    }
   ],
   "source": [
    "\"hey there\""
   ]
  },
  {
   "cell_type": "markdown",
   "id": "6fc1d97e",
   "metadata": {},
   "source": [
    "# This is my home"
   ]
  },
  {
   "cell_type": "code",
   "execution_count": 5,
   "id": "f4871a50",
   "metadata": {},
   "outputs": [
    {
     "data": {
      "application/json": {
       "cell": {
        "!": "OSMagics",
        "HTML": "Other",
        "SVG": "Other",
        "bash": "Other",
        "capture": "ExecutionMagics",
        "cmd": "Other",
        "debug": "ExecutionMagics",
        "file": "Other",
        "html": "DisplayMagics",
        "javascript": "DisplayMagics",
        "js": "DisplayMagics",
        "latex": "DisplayMagics",
        "markdown": "DisplayMagics",
        "perl": "Other",
        "prun": "ExecutionMagics",
        "pypy": "Other",
        "python": "Other",
        "python2": "Other",
        "python3": "Other",
        "ruby": "Other",
        "script": "ScriptMagics",
        "sh": "Other",
        "svg": "DisplayMagics",
        "sx": "OSMagics",
        "system": "OSMagics",
        "time": "ExecutionMagics",
        "timeit": "ExecutionMagics",
        "writefile": "OSMagics"
       },
       "line": {
        "alias": "OSMagics",
        "alias_magic": "BasicMagics",
        "autoawait": "AsyncMagics",
        "autocall": "AutoMagics",
        "automagic": "AutoMagics",
        "autosave": "KernelMagics",
        "bookmark": "OSMagics",
        "cd": "OSMagics",
        "clear": "KernelMagics",
        "cls": "KernelMagics",
        "colors": "BasicMagics",
        "conda": "PackagingMagics",
        "config": "ConfigMagics",
        "connect_info": "KernelMagics",
        "copy": "Other",
        "ddir": "Other",
        "debug": "ExecutionMagics",
        "dhist": "OSMagics",
        "dirs": "OSMagics",
        "doctest_mode": "BasicMagics",
        "echo": "Other",
        "ed": "Other",
        "edit": "KernelMagics",
        "env": "OSMagics",
        "gui": "BasicMagics",
        "hist": "Other",
        "history": "HistoryMagics",
        "killbgscripts": "ScriptMagics",
        "ldir": "Other",
        "less": "KernelMagics",
        "load": "CodeMagics",
        "load_ext": "ExtensionMagics",
        "loadpy": "CodeMagics",
        "logoff": "LoggingMagics",
        "logon": "LoggingMagics",
        "logstart": "LoggingMagics",
        "logstate": "LoggingMagics",
        "logstop": "LoggingMagics",
        "ls": "Other",
        "lsmagic": "BasicMagics",
        "macro": "ExecutionMagics",
        "magic": "BasicMagics",
        "matplotlib": "PylabMagics",
        "mkdir": "Other",
        "more": "KernelMagics",
        "notebook": "BasicMagics",
        "page": "BasicMagics",
        "pastebin": "CodeMagics",
        "pdb": "ExecutionMagics",
        "pdef": "NamespaceMagics",
        "pdoc": "NamespaceMagics",
        "pfile": "NamespaceMagics",
        "pinfo": "NamespaceMagics",
        "pinfo2": "NamespaceMagics",
        "pip": "PackagingMagics",
        "popd": "OSMagics",
        "pprint": "BasicMagics",
        "precision": "BasicMagics",
        "prun": "ExecutionMagics",
        "psearch": "NamespaceMagics",
        "psource": "NamespaceMagics",
        "pushd": "OSMagics",
        "pwd": "OSMagics",
        "pycat": "OSMagics",
        "pylab": "PylabMagics",
        "qtconsole": "KernelMagics",
        "quickref": "BasicMagics",
        "recall": "HistoryMagics",
        "rehashx": "OSMagics",
        "reload_ext": "ExtensionMagics",
        "ren": "Other",
        "rep": "Other",
        "rerun": "HistoryMagics",
        "reset": "NamespaceMagics",
        "reset_selective": "NamespaceMagics",
        "rmdir": "Other",
        "run": "ExecutionMagics",
        "save": "CodeMagics",
        "sc": "OSMagics",
        "set_env": "OSMagics",
        "store": "StoreMagics",
        "sx": "OSMagics",
        "system": "OSMagics",
        "tb": "ExecutionMagics",
        "time": "ExecutionMagics",
        "timeit": "ExecutionMagics",
        "unalias": "OSMagics",
        "unload_ext": "ExtensionMagics",
        "who": "NamespaceMagics",
        "who_ls": "NamespaceMagics",
        "whos": "NamespaceMagics",
        "xdel": "NamespaceMagics",
        "xmode": "BasicMagics"
       }
      },
      "text/plain": [
       "Available line magics:\n",
       "%alias  %alias_magic  %autoawait  %autocall  %automagic  %autosave  %bookmark  %cd  %clear  %cls  %colors  %conda  %config  %connect_info  %copy  %ddir  %debug  %dhist  %dirs  %doctest_mode  %echo  %ed  %edit  %env  %gui  %hist  %history  %killbgscripts  %ldir  %less  %load  %load_ext  %loadpy  %logoff  %logon  %logstart  %logstate  %logstop  %ls  %lsmagic  %macro  %magic  %matplotlib  %mkdir  %more  %notebook  %page  %pastebin  %pdb  %pdef  %pdoc  %pfile  %pinfo  %pinfo2  %pip  %popd  %pprint  %precision  %prun  %psearch  %psource  %pushd  %pwd  %pycat  %pylab  %qtconsole  %quickref  %recall  %rehashx  %reload_ext  %ren  %rep  %rerun  %reset  %reset_selective  %rmdir  %run  %save  %sc  %set_env  %store  %sx  %system  %tb  %time  %timeit  %unalias  %unload_ext  %who  %who_ls  %whos  %xdel  %xmode\n",
       "\n",
       "Available cell magics:\n",
       "%%!  %%HTML  %%SVG  %%bash  %%capture  %%cmd  %%debug  %%file  %%html  %%javascript  %%js  %%latex  %%markdown  %%perl  %%prun  %%pypy  %%python  %%python2  %%python3  %%ruby  %%script  %%sh  %%svg  %%sx  %%system  %%time  %%timeit  %%writefile\n",
       "\n",
       "Automagic is ON, % prefix IS NOT needed for line magics."
      ]
     },
     "execution_count": 5,
     "metadata": {},
     "output_type": "execute_result"
    }
   ],
   "source": [
    "%lsmagic\n",
    "#jupyter magic commands"
   ]
  },
  {
   "cell_type": "code",
   "execution_count": 6,
   "id": "a489a489",
   "metadata": {},
   "outputs": [
    {
     "name": "stdout",
     "output_type": "stream",
     "text": [
      " Volume in drive C has no label.\n",
      " Volume Serial Number is CA54-0DBA\n",
      "\n",
      " Directory of C:\\Users\\sagni\n",
      "\n",
      "17-11-2022  23:59    <DIR>          .\n",
      "29-03-2022  16:19    <DIR>          ..\n",
      "17-11-2022  19:41    <DIR>          .conda\n",
      "29-10-2022  18:27                25 .condarc\n",
      "29-10-2022  18:26    <DIR>          .continuum\n",
      "02-11-2022  21:44                42 .gitignore\n",
      "17-11-2022  20:01    <DIR>          .ipynb_checkpoints\n",
      "29-10-2022  19:16    <DIR>          .ipython\n",
      "17-11-2022  19:52    <DIR>          .jupyter\n",
      "17-11-2022  20:09    <DIR>          .matplotlib\n",
      "09-05-2022  01:12                32 .node_repl_history\n",
      "25-03-2022  14:30    <DIR>          3D Objects\n",
      "17-11-2022  19:43    <DIR>          anaconda3\n",
      "29-03-2022  19:13    <DIR>          Contacts\n",
      "10-11-2022  01:26    <DIR>          Documents\n",
      "17-11-2022  19:45    <DIR>          Downloads\n",
      "29-03-2022  19:13    <DIR>          Favorites\n",
      "08-11-2022  20:57         2,569,500 get-pip.py\n",
      "08-11-2022  20:58    <DIR>          har\n",
      "08-11-2022  21:16    <DIR>          har2\n",
      "17-11-2022  23:59            58,068 Intro.ipynb\n",
      "02-11-2022  21:44    <DIR>          Lib\n",
      "29-03-2022  19:13    <DIR>          Links\n",
      "31-10-2022  20:13    <DIR>          Microsoft\n",
      "29-03-2022  19:13    <DIR>          Music\n",
      "17-11-2022  20:05    <DIR>          new1\n",
      "17-11-2022  15:14    <DIR>          OneDrive\n",
      "17-11-2022  18:37    <DIR>          PycharmProjects\n",
      "02-11-2022  21:44               241 pyvenv.cfg\n",
      "08-11-2022  21:05               164 requirements.txt\n",
      "29-03-2022  19:13    <DIR>          Saved Games\n",
      "02-11-2022  21:44    <DIR>          Scripts\n",
      "29-03-2022  19:13    <DIR>          Searches\n",
      "14-10-2022  22:05    <DIR>          Settings\n",
      "17-11-2022  20:42            30,161 Test.png\n",
      "29-10-2022  19:42             2,263 Untitled.ipynb\n",
      "06-04-2022  12:39    <DIR>          Videos\n",
      "               9 File(s)      2,660,496 bytes\n",
      "              28 Dir(s)  394,321,563,648 bytes free\n"
     ]
    }
   ],
   "source": [
    "%ls\n",
    "#all contents in this folder"
   ]
  },
  {
   "cell_type": "code",
   "execution_count": 7,
   "id": "535e5d22",
   "metadata": {},
   "outputs": [
    {
     "name": "stderr",
     "output_type": "stream",
     "text": [
      "A subdirectory or file new1 already exists.\n"
     ]
    }
   ],
   "source": [
    "#creating a file in our directory\n",
    "!mkdir new1"
   ]
  },
  {
   "cell_type": "code",
   "execution_count": 8,
   "id": "a5be4312",
   "metadata": {
    "scrolled": true
   },
   "outputs": [
    {
     "name": "stdout",
     "output_type": "stream",
     "text": [
      " Volume in drive C has no label.\n",
      " Volume Serial Number is CA54-0DBA\n",
      "\n",
      " Directory of C:\\Users\\sagni\n",
      "\n",
      "17-11-2022  23:59    <DIR>          .\n",
      "29-03-2022  16:19    <DIR>          ..\n",
      "17-11-2022  19:41    <DIR>          .conda\n",
      "29-10-2022  18:27                25 .condarc\n",
      "29-10-2022  18:26    <DIR>          .continuum\n",
      "02-11-2022  21:44                42 .gitignore\n",
      "17-11-2022  20:01    <DIR>          .ipynb_checkpoints\n",
      "29-10-2022  19:16    <DIR>          .ipython\n",
      "17-11-2022  19:52    <DIR>          .jupyter\n",
      "17-11-2022  20:09    <DIR>          .matplotlib\n",
      "09-05-2022  01:12                32 .node_repl_history\n",
      "25-03-2022  14:30    <DIR>          3D Objects\n",
      "17-11-2022  19:43    <DIR>          anaconda3\n",
      "29-03-2022  19:13    <DIR>          Contacts\n",
      "10-11-2022  01:26    <DIR>          Documents\n",
      "17-11-2022  19:45    <DIR>          Downloads\n",
      "29-03-2022  19:13    <DIR>          Favorites\n",
      "08-11-2022  20:57         2,569,500 get-pip.py\n",
      "08-11-2022  20:58    <DIR>          har\n",
      "08-11-2022  21:16    <DIR>          har2\n",
      "17-11-2022  23:59            58,068 Intro.ipynb\n",
      "02-11-2022  21:44    <DIR>          Lib\n",
      "29-03-2022  19:13    <DIR>          Links\n",
      "31-10-2022  20:13    <DIR>          Microsoft\n",
      "29-03-2022  19:13    <DIR>          Music\n",
      "17-11-2022  20:05    <DIR>          new1\n",
      "17-11-2022  15:14    <DIR>          OneDrive\n",
      "17-11-2022  18:37    <DIR>          PycharmProjects\n",
      "02-11-2022  21:44               241 pyvenv.cfg\n",
      "08-11-2022  21:05               164 requirements.txt\n",
      "29-03-2022  19:13    <DIR>          Saved Games\n",
      "02-11-2022  21:44    <DIR>          Scripts\n",
      "29-03-2022  19:13    <DIR>          Searches\n",
      "14-10-2022  22:05    <DIR>          Settings\n",
      "17-11-2022  20:42            30,161 Test.png\n",
      "29-10-2022  19:42             2,263 Untitled.ipynb\n",
      "06-04-2022  12:39    <DIR>          Videos\n",
      "               9 File(s)      2,660,496 bytes\n",
      "              28 Dir(s)  394,321,563,648 bytes free\n"
     ]
    }
   ],
   "source": [
    "%ls\n",
    "#check for new1 now"
   ]
  },
  {
   "cell_type": "code",
   "execution_count": 9,
   "id": "7d7e7862",
   "metadata": {},
   "outputs": [],
   "source": [
    "%matplotlib inline"
   ]
  },
  {
   "cell_type": "code",
   "execution_count": 10,
   "id": "c874d1ab",
   "metadata": {},
   "outputs": [],
   "source": [
    "import matplotlib.pyplot as plt\n",
    "import numpy as np"
   ]
  },
  {
   "cell_type": "code",
   "execution_count": 11,
   "id": "950d5a63",
   "metadata": {},
   "outputs": [
    {
     "data": {
      "image/png": "[encoded data removed]",
      "text/plain": [
       "<Figure size 640x480 with 1 Axes>"
      ]
     },
     "metadata": {},
     "output_type": "display_data"
    }
   ],
   "source": [
    "t = np.arange(0.0,2.0,0.01)\n",
    "p =1+ np.sin(2*np.pi*t)\n",
    "plt.plot(t,p)\n",
    "\n",
    "plt.xlabel = ('time(s)')\n",
    "plt.ylabel = ('voltage(mV)')\n",
    "plt.grid(True)\n",
    "plt.savefig('Test.png')\n",
    "plt.show()"
   ]
  },
  {
   "cell_type": "markdown",
   "id": "8f0b7d30",
   "metadata": {},
   "source": [
    "# lets introduce to numpy"
   ]
  },
  {
   "cell_type": "code",
   "execution_count": 12,
   "id": "190b3e2e",
   "metadata": {},
   "outputs": [],
   "source": [
    "#comapring a list with an array\n",
    "arr =np.arange(100)\n",
    "ls1 =list(range(100))"
   ]
  },
  {
   "cell_type": "code",
   "execution_count": 13,
   "id": "eff5feca",
   "metadata": {},
   "outputs": [
    {
     "name": "stdout",
     "output_type": "stream",
     "text": [
      "Wall time: 0 ns\n"
     ]
    }
   ],
   "source": [
    "#we will now check wall time for each\n",
    "%time for _ in range(10):[i*3 for i in ls1]"
   ]
  },
  {
   "cell_type": "code",
   "execution_count": 14,
   "id": "ba1e7052",
   "metadata": {},
   "outputs": [
    {
     "name": "stdout",
     "output_type": "stream",
     "text": [
      "Wall time: 0 ns\n"
     ]
    }
   ],
   "source": [
    "%time for _ in range(10):arr=arr*3"
   ]
  },
  {
   "cell_type": "markdown",
   "id": "8abfeb1f",
   "metadata": {},
   "source": [
    "#to create a numpy array we pass a list"
   ]
  },
  {
   "cell_type": "markdown",
   "id": "bae94739",
   "metadata": {},
   "source": [
    "# Basic functions"
   ]
  },
  {
   "cell_type": "code",
   "execution_count": 15,
   "id": "36dea001",
   "metadata": {},
   "outputs": [
    {
     "name": "stdout",
     "output_type": "stream",
     "text": [
      "[list([4, 2, 7, 9]) list([6, 9, 7])]\n",
      "<class 'numpy.ndarray'>\n"
     ]
    },
    {
     "data": {
      "text/plain": [
       "(2,)"
      ]
     },
     "execution_count": 15,
     "metadata": {},
     "output_type": "execute_result"
    }
   ],
   "source": [
    "import numpy as np\n",
    "a=np.array([[4,2,7,9],[6,9,7]],dtype=object)\n",
    "print(a)\n",
    "print(type(a))\n",
    "a.shape"
   ]
  },
  {
   "cell_type": "code",
   "execution_count": 16,
   "id": "83ac4be3",
   "metadata": {},
   "outputs": [
    {
     "name": "stdout",
     "output_type": "stream",
     "text": [
      "<class 'numpy.ndarray'>\n",
      "(2, 3)\n"
     ]
    },
    {
     "data": {
      "text/plain": [
       "array([[2, 4, 5],\n",
       "       [3, 9, 7]])"
      ]
     },
     "execution_count": 16,
     "metadata": {},
     "output_type": "execute_result"
    }
   ],
   "source": [
    "#list of lists rep by an array of m,m dim\n",
    "arr3=np.array([[2,4,5],[3,9,7]],dtype=int)\n",
    "print(type(arr3))\n",
    "print(arr3.shape)\n",
    "arr3"
   ]
  },
  {
   "cell_type": "code",
   "execution_count": 17,
   "id": "a413191a",
   "metadata": {},
   "outputs": [
    {
     "data": {
      "text/plain": [
       "(1, 6)"
      ]
     },
     "execution_count": 17,
     "metadata": {},
     "output_type": "execute_result"
    }
   ],
   "source": [
    "#to print an array of m*n from a range \n",
    "a = np.arange(6)\n",
    "a2 = a[np.newaxis, :]\n",
    "a2.shape"
   ]
  },
  {
   "cell_type": "code",
   "execution_count": 18,
   "id": "5828aaee",
   "metadata": {},
   "outputs": [
    {
     "data": {
      "text/plain": [
       "dtype('int32')"
      ]
     },
     "execution_count": 18,
     "metadata": {},
     "output_type": "execute_result"
    }
   ],
   "source": [
    "#gives us data type of the elements in container--array object as of here\n",
    "arr3.dtype"
   ]
  },
  {
   "cell_type": "code",
   "execution_count": 19,
   "id": "0ab48df4",
   "metadata": {},
   "outputs": [
    {
     "name": "stdout",
     "output_type": "stream",
     "text": [
      "[[0. 0. 0.]\n",
      " [0. 0. 0.]\n",
      " [0. 0. 0.]\n",
      " [0. 0. 0.]]\n"
     ]
    }
   ],
   "source": [
    "#create an zeros array\n",
    "b2=np.zeros((4,3)) #(()) because a tuple has to be passed\n",
    "print(b2)"
   ]
  },
  {
   "cell_type": "code",
   "execution_count": 20,
   "id": "84fffe9b",
   "metadata": {},
   "outputs": [
    {
     "data": {
      "text/plain": [
       "array([[0., 0., 0.],\n",
       "       [0., 0., 0.],\n",
       "       [0., 0., 0.],\n",
       "       [0., 0., 0.]])"
      ]
     },
     "execution_count": 20,
     "metadata": {},
     "output_type": "execute_result"
    }
   ],
   "source": [
    "#create an empty array\n",
    "w=np.empty((4,3))\n",
    "w"
   ]
  },
  {
   "cell_type": "markdown",
   "id": "ff816668",
   "metadata": {},
   "source": [
    "#above 2 are not the same"
   ]
  },
  {
   "cell_type": "code",
   "execution_count": 21,
   "id": "3fc510b0",
   "metadata": {},
   "outputs": [
    {
     "data": {
      "text/plain": [
       "array([1., 1., 1., 1., 1., 1., 1.])"
      ]
     },
     "execution_count": 21,
     "metadata": {},
     "output_type": "execute_result"
    }
   ],
   "source": [
    "one =np.ones(7)\n",
    "one"
   ]
  },
  {
   "cell_type": "code",
   "execution_count": 22,
   "id": "4cd32aa3",
   "metadata": {},
   "outputs": [
    {
     "data": {
      "text/plain": [
       "array([[1, 0],\n",
       "       [0, 1]])"
      ]
     },
     "execution_count": 22,
     "metadata": {},
     "output_type": "execute_result"
    }
   ],
   "source": [
    "#create an eye array\n",
    "#takes arguments as numpy.eye(N i.e rows(not optinal), M i.e. cols if any, k=Index of the diagonal: 0 (the default) refers to the main diagonal, a positive value refers to an upper diagonal, and a negative value to a lower diagonal.\n",
    "#, dtype=<class 'float'> i.e datatype, order='C', *, like=None)\n",
    "eye=np.eye(2,dtype=int)\n",
    "eye"
   ]
  },
  {
   "cell_type": "code",
   "execution_count": 27,
   "id": "130a5ab0",
   "metadata": {},
   "outputs": [
    {
     "data": {
      "text/plain": [
       "array([[  1, 144,   9],\n",
       "       [  9,  16,  25]])"
      ]
     },
     "execution_count": 27,
     "metadata": {},
     "output_type": "execute_result"
    }
   ],
   "source": [
    "#performing arithmetic operations on arrays occur element wise\n",
    "arry=np.array([[1,12,3],[3,4,5]])\n",
    "arry*arry"
   ]
  },
  {
   "cell_type": "code",
   "execution_count": 28,
   "id": "1649c32b",
   "metadata": {},
   "outputs": [
    {
     "data": {
      "text/plain": [
       "array([[1.        , 0.08333333, 0.33333333],\n",
       "       [0.33333333, 0.25      , 0.2       ]])"
      ]
     },
     "execution_count": 28,
     "metadata": {},
     "output_type": "execute_result"
    }
   ],
   "source": [
    "#elementwise\n",
    "1/arry"
   ]
  },
  {
   "cell_type": "code",
   "execution_count": 39,
   "id": "1f0dcf59",
   "metadata": {},
   "outputs": [
    {
     "name": "stdout",
     "output_type": "stream",
     "text": [
      "[[3 4 8 3 7]]\n",
      "[[2 6 5]\n",
      " [3 7 6]\n",
      " [3 4 8]]\n"
     ]
    },
    {
     "data": {
      "text/plain": [
       "array([[2, 5, 6],\n",
       "       [3, 6, 7]])"
      ]
     },
     "execution_count": 39,
     "metadata": {},
     "output_type": "execute_result"
    }
   ],
   "source": [
    "#concat and sort\n",
    "srt = np.array([[2,6,5],[3,7,6]])\n",
    "cat = np.array([[3,4,8]])\n",
    "cat2 = np.array([[3,7]])\n",
    "print(np.concatenate((cat,cat2),axis=1))# axis =1 prints in a single row and seperate col\n",
    "print(np.concatenate((srt,cat),axis=0))# axis =0 prints in a seperate row and unchanged no of col\n",
    "np.sort(srt) #sorts in ascending order"
   ]
  },
  {
   "cell_type": "code",
   "execution_count": 30,
   "id": "8cedffaf",
   "metadata": {},
   "outputs": [
    {
     "data": {
      "text/plain": [
       "array([ 1.  ,  3.25,  5.5 ,  7.75, 10.  ])"
      ]
     },
     "execution_count": 30,
     "metadata": {},
     "output_type": "execute_result"
    }
   ],
   "source": [
    "#linspace=divides range of 1 to 10 with equal spacing\n",
    "lin =np.linspace(1,10,num=5)\n",
    "lin"
   ]
  },
  {
   "cell_type": "markdown",
   "id": "67523902",
   "metadata": {},
   "source": [
    "# Slicing"
   ]
  },
  {
   "cell_type": "code",
   "execution_count": 43,
   "id": "7585a431",
   "metadata": {},
   "outputs": [
    {
     "name": "stdout",
     "output_type": "stream",
     "text": [
      "[ 4 12 34 23]\n"
     ]
    },
    {
     "data": {
      "text/plain": [
       "array([ 2,  3,  4, 12, 34, 23, 67])"
      ]
     },
     "execution_count": 43,
     "metadata": {},
     "output_type": "execute_result"
    }
   ],
   "source": [
    "piq =np.array([2,3,4,12,34,23,67])\n",
    "que = piq[2:6]\n",
    "print(que)\n",
    "piq"
   ]
  },
  {
   "cell_type": "code",
   "execution_count": 44,
   "id": "f42d4917",
   "metadata": {},
   "outputs": [
    {
     "data": {
      "text/plain": [
       "array([ 2,  3,  4, 12, 56, 23, 67])"
      ]
     },
     "execution_count": 44,
     "metadata": {},
     "output_type": "execute_result"
    }
   ],
   "source": [
    "que[2]=56\n",
    "piq"
   ]
  },
  {
   "cell_type": "markdown",
   "id": "06174afc",
   "metadata": {},
   "source": [
    "to avoid the originalarray to get changed we use.copy()"
   ]
  },
  {
   "cell_type": "code",
   "execution_count": 45,
   "id": "cac5564f",
   "metadata": {},
   "outputs": [],
   "source": [
    "que2=piq[2:6].copy()"
   ]
  },
  {
   "cell_type": "code",
   "execution_count": 47,
   "id": "0e48ad8a",
   "metadata": {},
   "outputs": [
    {
     "data": {
      "text/plain": [
       "array([ 2,  3,  4, 12, 34, 23, 67])"
      ]
     },
     "execution_count": 47,
     "metadata": {},
     "output_type": "execute_result"
    }
   ],
   "source": [
    "que2[2]=34\n",
    "piq"
   ]
  },
  {
   "cell_type": "code",
   "execution_count": 50,
   "id": "12dc6853",
   "metadata": {},
   "outputs": [
    {
     "name": "stdout",
     "output_type": "stream",
     "text": [
      "[[2 6 5]\n",
      " [3 7 6]]\n"
     ]
    },
    {
     "data": {
      "text/plain": [
       "5"
      ]
     },
     "execution_count": 50,
     "metadata": {},
     "output_type": "execute_result"
    }
   ],
   "source": [
    "#2d array slicing:\n",
    "print(srt)\n",
    "srt[0,2] "
   ]
  },
  {
   "cell_type": "code",
   "execution_count": null,
   "id": "3741312c",
   "metadata": {},
   "outputs": [],
   "source": []
  }
 ],
 "metadata": {
  "kernelspec": {
   "display_name": "Python 3 (ipykernel)",
   "language": "python",
   "name": "python3"
  },
  "language_info": {
   "codemirror_mode": {
    "name": "ipython",
    "version": 3
   },
   "file_extension": ".py",
   "mimetype": "text/x-python",
   "name": "python",
   "nbconvert_exporter": "python",
   "pygments_lexer": "ipython3",
   "version": "3.9.13"
  }
 },
 "nbformat": 4,
 "nbformat_minor": 5
}
